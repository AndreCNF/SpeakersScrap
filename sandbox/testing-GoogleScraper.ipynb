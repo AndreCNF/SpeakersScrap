{
 "cells": [
  {
   "cell_type": "markdown",
   "metadata": {},
   "source": [
    "# Testing the GoogleScraper"
   ]
  },
  {
   "cell_type": "code",
   "execution_count": 4,
   "metadata": {},
   "outputs": [
    {
     "name": "stdout",
     "output_type": "stream",
     "text": [
      "\n",
      "Please wait a moment while I gather a list of all available modules...\n",
      "\n"
     ]
    },
    {
     "name": "stderr",
     "output_type": "stream",
     "text": [
      "/Users/AndreCNF/miniconda3/lib/python3.5/site-packages/IPython/kernel/__init__.py:13: ShimWarning: The `IPython.kernel` package has been deprecated since IPython 4.0.You should import from ipykernel or jupyter_client instead.\n",
      "  \"You should import from ipykernel or jupyter_client instead.\", ShimWarning)\n",
      "/Users/AndreCNF/miniconda3/lib/python3.5/site-packages/h5py/__init__.py:36: FutureWarning: Conversion of the second argument of issubdtype from `float` to `np.floating` is deprecated. In future, it will be treated as `np.float64 == np.dtype(float).type`.\n",
      "  from ._conv import register_converters as _register_converters\n",
      "Using TensorFlow backend.\n",
      "/Users/AndreCNF/miniconda3/lib/python3.5/importlib/_bootstrap.py:222: RuntimeWarning: compiletime version 3.6 of module 'tensorflow.python.framework.fast_tensor_util' does not match runtime version 3.5\n",
      "  return f(*args, **kwds)\n",
      "WARNING: Logging before flag parsing goes to stderr.\n",
      "W0915 23:45:41.834395 140736874369984 tf_logging.py:126] From /Users/AndreCNF/miniconda3/lib/python3.5/site-packages/tensorflow/contrib/learn/python/learn/datasets/base.py:198: retry (from tensorflow.contrib.learn.python.learn.datasets.base) is deprecated and will be removed in a future version.\n",
      "Instructions for updating:\n",
      "Use the retry module or similar alternatives.\n"
     ]
    },
    {
     "name": "stdout",
     "output_type": "stream",
     "text": [
      "/Users/AndreCNF/miniconda3/lib/python3.5/site-packages/zmq/backend/cffi/__pycache__/_cffi_ext.c:243:3: warning: code will never be executed [-Wunreachable-code]\n",
      "  _cffi_check__zmq_msg_t(0);\n",
      "  ^~~~~~~~~~~~~~~~~~~~~~\n",
      "/Users/AndreCNF/miniconda3/lib/python3.5/site-packages/zmq/backend/cffi/__pycache__/_cffi_ext.c:276:3: warning: code will never be executed [-Wunreachable-code]\n",
      "  _cffi_check__zmq_pollitem_t(0);\n",
      "  ^~~~~~~~~~~~~~~~~~~~~~~~~~~\n",
      "2 warnings generated.\n",
      "Cython              cProfile            json                selectors\n",
      "IN                  calendar            jsonschema          send2trash\n",
      "IPython             certifi             jupyter             setuptools\n",
      "OpenSSL             cffi                jupyter_client      setuputils\n",
      "__future__          cgi                 jupyter_core        shapely\n",
      "_ast                cgitb               keras               shelve\n",
      "_bisect             chardet             keyword             shlex\n",
      "_bootlocale         chunk               kiwisolver          shutil\n",
      "_bz2                click               lib2to3             signal\n",
      "_cffi_backend       click_plugins       linecache           simplegeneric\n",
      "_codecs             cligj               locale              site\n",
      "_codecs_cn          clonevirtualenv     logging             six\n",
      "_codecs_hk          cmath               lzma                sklearn\n",
      "_codecs_iso2022     cmd                 macpath             smtpd\n",
      "_codecs_jp          code                macurl2path         smtplib\n",
      "_codecs_kr          codecs              mailbox             sndhdr\n",
      "_codecs_tw          codeop              mailcap             socket\n",
      "_collections        collections         markdown            socketserver\n",
      "_collections_abc    colorsys            markupsafe          socks\n",
      "_compat_pickle      compileall          marshal             sockshandler\n",
      "_compression        concurrent          math                sqlalchemy\n",
      "_crypt              conda               matplotlib          sqlite3\n",
      "_csv                conda_env           mimetypes           sre_compile\n",
      "_ctypes             configparser        mistune             sre_constants\n",
      "_ctypes_test        contextlib          mmap                sre_parse\n",
      "_curses             copy                mock                ssl\n",
      "_curses_panel       copyreg             modulefinder        stat\n",
      "_datetime           crypt               multiprocessing     statistics\n",
      "_dbm                cryptography        munch               stevedore\n",
      "_decimal            csv                 nbconvert           storemagic\n",
      "_dummy_thread       ctypes              nbformat            string\n",
      "_elementtree        curses              netrc               stringprep\n",
      "_functools          cv2                 networkx            struct\n",
      "_hashlib            cycler              nis                 subprocess\n",
      "_heapq              cython              nntplib             sunau\n",
      "_imp                cythonmagic         notebook            symbol\n",
      "_io                 datetime            ntpath              sympyprinting\n",
      "_json               dateutil            nturl2path          symtable\n",
      "_locale             dbm                 numbers             sys\n",
      "_lsprof             decimal             numpy               sysconfig\n",
      "_lzma               decorator           ogr                 syslog\n",
      "_markupbase         descartes           opcode              tabnanny\n",
      "_md5                difflib             operator            tabulate\n",
      "_multibytecodec     dis                 optparse            tarfile\n",
      "_multiprocessing    distribute_setup    os                  telnetlib\n",
      "_opcode             distutils           osgeo               tempfile\n",
      "_operator           doctest             osmnx               tensorboard\n",
      "_osx_support        docutils            osr                 tensorflow\n",
      "_pickle             dummy_threading     packaging           termcolor\n",
      "_posixsubprocess    easy_install        pandas              terminado\n",
      "_pydecimal          email               pandocfilters       termios\n",
      "_pyio               encodings           parser              test_pycosat\n",
      "_random             ensurepip           parso               testpath\n",
      "_scproxy            entrypoints         pathlib             tests\n",
      "_sha1               enum                pbr                 textwrap\n",
      "_sha256             errno               pdb                 this\n",
      "_sha512             external            pexpect             threading\n",
      "_signal             ez_setup            pickle              time\n",
      "_sitebuiltins       faulthandler        pickleshare         timeit\n",
      "_socket             fcntl               pickletools         tkSnack\n",
      "_sqlite3            filecmp             pip                 tkinter\n",
      "_sre                fileinput           pipes               tlz\n",
      "_ssl                fiona               pkg_resources       token\n",
      "_stat               fnmatch             pkgutil             tokenize\n",
      "_string             folium              platform            toolz\n",
      "_strptime           formatter           plistlib            tornado\n",
      "_struct             fractions           plyfile             trace\n",
      "_symtable           ftplib              poplib              traceback\n",
      "_sysconfigdata      functools           posix               tracemalloc\n",
      "_testbuffer         gast                posixpath           traitlets\n",
      "_testcapi           gc                  pprint              tty\n",
      "_testimportmultiple gdal                profile             turtle\n",
      "_testmultiphase     gdalconst           prompt_toolkit      turtledemo\n",
      "_thread             gdalnumeric         pstats              types\n",
      "_threading_local    genericpath         psycopg2            typing\n",
      "_tkinter            geographiclib       pty                 unicodedata\n",
      "_tracemalloc        geopandas           ptyprocess          unidecode\n",
      "_warnings           geopy               pwd                 unittest\n",
      "_weakref            getopt              py_compile          urllib\n",
      "_weakrefset         getpass             pyclbr              urllib3\n",
      "_yaml               gettext             pycosat             uu\n",
      "abc                 glob                pycparser           uuid\n",
      "absl                gnm                 pydoc               vega\n",
      "aifc                googlemaps          pydoc_data          venv\n",
      "altair              grp                 pyexpat             vincent\n",
      "antigravity         grpc                pygments            virtualenv\n",
      "appnope             gzip                pylab               virtualenv_support\n",
      "argparse            h5py                pyparsing           warnings\n",
      "array               hashlib             pyproj              wave\n",
      "asn1crypto          heapq               pysal               wcwidth\n",
      "ast                 hmac                pytz                weakref\n",
      "astor               html                pyximport           webbrowser\n",
      "asynchat            html5lib            queue               webencodings\n",
      "asyncio             http                quopri              werkzeug\n",
      "asyncore            idlelib             random              wheel\n",
      "atexit              idna                re                  wsgiref\n",
      "audioop             imaplib             readline            xdrlib\n",
      "autoreload          imghdr              reprlib             xlrd\n",
      "backcall            imp                 requests            xml\n",
      "backports           importlib           resource            xmlrpc\n",
      "base64              imutils             reverse_geocoder    xxlimited\n",
      "bdb                 inspect             rlcompleter         xxsubtype\n",
      "binascii            io                  rmagic              yaml\n",
      "binhex              ipaddress           rtree               zipapp\n",
      "bisect              ipykernel           ruamel_yaml         zipfile\n",
      "bleach              ipykernel_launcher  runpy               zipimport\n",
      "boto3               ipython_genutils    s3transfer          zlib\n",
      "botocore            itertools           sched               zmq\n",
      "branca              jedi                scipy               \n",
      "builtins            jinja2              seaborn             \n",
      "bz2                 jmespath            select              \n",
      "\n",
      "Enter any module name to get more help.  Or, type \"modules spam\" to search\n",
      "for modules whose name or summary contain the string \"spam\".\n",
      "\n"
     ]
    }
   ],
   "source": [
    "help(\"modules\")"
   ]
  },
  {
   "cell_type": "code",
   "execution_count": 1,
   "metadata": {},
   "outputs": [],
   "source": [
    "import GoogleScraper"
   ]
  },
  {
   "cell_type": "code",
   "execution_count": 2,
   "metadata": {},
   "outputs": [
    {
     "data": {
      "text/plain": [
       "<module 'GoogleScraper' (namespace)>"
      ]
     },
     "execution_count": 2,
     "metadata": {},
     "output_type": "execute_result"
    }
   ],
   "source": [
    "GoogleScraper."
   ]
  },
  {
   "cell_type": "code",
   "execution_count": 3,
   "metadata": {},
   "outputs": [
    {
     "ename": "ImportError",
     "evalue": "cannot import name 'scrape_with_config'",
     "output_type": "error",
     "traceback": [
      "\u001b[0;31m---------------------------------------------------------------------------\u001b[0m",
      "\u001b[0;31mImportError\u001b[0m                               Traceback (most recent call last)",
      "\u001b[0;32m<ipython-input-3-51a7e77c7608>\u001b[0m in \u001b[0;36m<module>\u001b[0;34m()\u001b[0m\n\u001b[0;32m----> 1\u001b[0;31m \u001b[0;32mfrom\u001b[0m \u001b[0mGoogleScraper\u001b[0m \u001b[0;32mimport\u001b[0m \u001b[0mscrape_with_config\u001b[0m\u001b[0;34m,\u001b[0m \u001b[0mGoogleSearchError\u001b[0m\u001b[0;34m\u001b[0m\u001b[0m\n\u001b[0m",
      "\u001b[0;31mImportError\u001b[0m: cannot import name 'scrape_with_config'"
     ]
    }
   ],
   "source": [
    "from GoogleScraper import scrape_with_config, GoogleSearchError"
   ]
  },
  {
   "cell_type": "code",
   "execution_count": 6,
   "metadata": {},
   "outputs": [
    {
     "ename": "NameError",
     "evalue": "name 'h' is not defined",
     "output_type": "error",
     "traceback": [
      "\u001b[0;31m---------------------------------------------------------------------------\u001b[0m",
      "\u001b[0;31mNameError\u001b[0m                                 Traceback (most recent call last)",
      "\u001b[0;32m<ipython-input-6-fb7db07871ef>\u001b[0m in \u001b[0;36m<module>\u001b[0;34m()\u001b[0m\n\u001b[0;32m----> 1\u001b[0;31m \u001b[0mGoogleScraper\u001b[0m \u001b[0;34m-\u001b[0m\u001b[0mh\u001b[0m\u001b[0;34m\u001b[0m\u001b[0m\n\u001b[0m",
      "\u001b[0;31mNameError\u001b[0m: name 'h' is not defined"
     ]
    }
   ],
   "source": [
    "GoogleScraper -h"
   ]
  },
  {
   "cell_type": "code",
   "execution_count": 2,
   "metadata": {},
   "outputs": [],
   "source": [
    "# See in the config.cfg file for possible values\n",
    "config = {\n",
    "    'use_own_ip': True,\n",
    "    'keyword': 'Let\\'s go bubbles!',\n",
    "    'search_engines': ['yandex', 'bing'],\n",
    "    'num_pages_for_keyword': 1,\n",
    "    'scrape_method': 'selenium',\n",
    "    'sel_browser': 'chrome',\n",
    "    'do_caching': False\n",
    "}"
   ]
  },
  {
   "cell_type": "code",
   "execution_count": null,
   "metadata": {},
   "outputs": [],
   "source": [
    "try:\n",
    "    search = scrape_with_config(config)\n",
    "except GoogleSearchError as e:\n",
    "    print(e)\n",
    "\n",
    "# let's inspect what we got\n",
    "\n",
    "for serp in search.serps:\n",
    "    print(serp)\n",
    "    print(serp.search_engine_name)\n",
    "    print(serp.scrape_method)\n",
    "    print(serp.page_number)\n",
    "    print(serp.requested_at)\n",
    "    print(serp.num_results)\n",
    "    # ... more attributes ...\n",
    "    for link in serp.links:\n",
    "        print(link)"
   ]
  }
 ],
 "metadata": {
  "kernelspec": {
   "display_name": "Python 3",
   "language": "python",
   "name": "python3"
  },
  "language_info": {
   "codemirror_mode": {
    "name": "ipython",
    "version": 3
   },
   "file_extension": ".py",
   "mimetype": "text/x-python",
   "name": "python",
   "nbconvert_exporter": "python",
   "pygments_lexer": "ipython3",
   "version": "3.5.5"
  }
 },
 "nbformat": 4,
 "nbformat_minor": 2
}
