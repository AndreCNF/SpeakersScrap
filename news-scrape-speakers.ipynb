{
 "cells": [
  {
   "cell_type": "markdown",
   "metadata": {},
   "source": [
    "# Scrape main news sources looking for speakers"
   ]
  },
  {
   "cell_type": "code",
   "execution_count": null,
   "metadata": {},
   "outputs": [],
   "source": [
    "import sys\n",
    "from __future__ import unicode_literals, print_function\n",
    "import random\n",
    "from pathlib import Path\n",
    "import spacy\n",
    "from spacy.util import minibatch, compounding\n",
    "import pickle\n",
    "from datetime import datetime\n",
    "from datetime import timedelta\n",
    "import gspread\n",
    "from oauth2client.service_account import ServiceAccountCredentials\n",
    "import newspaper\n",
    "import yaml\n",
    "import tqdm\n",
    "import pendulum\n",
    "from langdetect import detect"
   ]
  },
  {
   "cell_type": "code",
   "execution_count": null,
   "metadata": {},
   "outputs": [],
   "source": [
    "sys.executable"
   ]
  },
  {
   "cell_type": "code",
   "execution_count": null,
   "metadata": {},
   "outputs": [],
   "source": [
    "ls NLP/models/speakers_model_2018_09_23_02_50_37"
   ]
  },
  {
   "cell_type": "code",
   "execution_count": null,
   "metadata": {},
   "outputs": [],
   "source": [
    "# Important variables\n",
    "config_yaml_dir = \"/Users/AndreCNF/OneDrive/TEDxULisboa/SpeakersScrap/configs/andreferreira_yaml_0.1.yaml\"\n",
    "current_date = pendulum.now('Europe/Lisbon')\n",
    "model_dir = 'NLP/models/speakers_model_2018_09_23_02_50_37'"
   ]
  },
  {
   "cell_type": "markdown",
   "metadata": {},
   "source": [
    "### Load NLP model"
   ]
  },
  {
   "cell_type": "code",
   "execution_count": null,
   "metadata": {},
   "outputs": [],
   "source": [
    "# Load custom NLP model trained to find articles about good speakers\n",
    "nlp = spacy.load(model_dir)"
   ]
  },
  {
   "cell_type": "code",
   "execution_count": null,
   "metadata": {},
   "outputs": [],
   "source": [
    "# Load English tokenizer, tagger, parser, NER and word vectors\n",
    "nlp_en = spacy.load('en')\n",
    "\n",
    "# Load Portuguese tokenizer, tagger, parser, NER and word vectors\n",
    "nlp_pt = spacy.load('pt')"
   ]
  },
  {
   "cell_type": "markdown",
   "metadata": {},
   "source": [
    "### Fetch news articles"
   ]
  },
  {
   "cell_type": "code",
   "execution_count": null,
   "metadata": {},
   "outputs": [],
   "source": [
    "# Read yaml configuration file, with the requested news sources\n",
    "with open(config_yaml_dir, 'r') as stream:\n",
    "    try:\n",
    "        config_yaml = yaml.load(stream)\n",
    "    except yaml.YAMLError as exc:\n",
    "        print(exc)"
   ]
  },
  {
   "cell_type": "code",
   "execution_count": null,
   "metadata": {},
   "outputs": [],
   "source": [
    "# Set the limit for number of articles to download, per news source\n",
    "LIMIT = 30\n",
    "\n",
    "data = {}\n",
    "data['newspapers'] = {}"
   ]
  },
  {
   "cell_type": "code",
   "execution_count": null,
   "metadata": {},
   "outputs": [],
   "source": [
    "# Iterate through each news company\n",
    "for company, value in tqdm.tqdm(config_yaml['news_sources'].items()):\n",
    "    print(\"Building site for \", company)\n",
    "    \n",
    "    # Counting the number of articles read from a news source company\n",
    "    count = 1\n",
    "    \n",
    "    paper = newspaper.build(value['link'], memoize_articles=False)\n",
    "    newsPaper = {\n",
    "        \"link\": value['link'],\n",
    "        \"articles\": []\n",
    "    }\n",
    "    \n",
    "    # Counting the number of articles without a readable publish date\n",
    "    noneTypeCount = 0\n",
    "    \n",
    "    for content in paper.articles:\n",
    "        if count > LIMIT:\n",
    "            break\n",
    "            \n",
    "        try:\n",
    "            content.download()\n",
    "            content.parse()\n",
    "            \n",
    "        except Exception as e:\n",
    "            print(e)\n",
    "            print(\"continuing...\")\n",
    "            continue\n",
    "            \n",
    "        # Ignore short texts\n",
    "        if len(content.text) < 280:\n",
    "            print(\"Skipping text of length \" + str(len(content.text)))\n",
    "            continue\n",
    "            \n",
    "        lang = detect(content.text)\n",
    "        \n",
    "        # Ignore texts written in a language that's not portuguese or english\n",
    "        if lang != 'pt' and lang != 'en':\n",
    "            print(\"Ignoring text that is written in \" + lang + \" language.\")\n",
    "            continue\n",
    "            \n",
    "        # Use the correct language model to find mentions of people\n",
    "        if lang == 'pt':\n",
    "            nlp_lang = nlp_pt\n",
    "        elif lang == 'en':\n",
    "            nlp_lang = nlp_en\n",
    "            \n",
    "        people_list = []\n",
    "            \n",
    "        # Get the list of people mentioned in the text\n",
    "        for entity in nlp_lang(content.text).ents:\n",
    "            if 'PER' in entity.label_:\n",
    "                people_list.append(entity.text)\n",
    "                \n",
    "        if len(people_list) == 0:\n",
    "            print(\"Ignoring text as no mention to people was found.\")\n",
    "            continue\n",
    "            \n",
    "        # Again, for consistency, if there is no found publish date the article will be skipped.\n",
    "        # After 10 downloaded articles from the same newspaper without publish date, the company will be skipped.\n",
    "        if content.publish_date is None:\n",
    "            print(count, \" Article has date of type None...\")\n",
    "            noneTypeCount = noneTypeCount + 1\n",
    "            if noneTypeCount > 10:\n",
    "                print(\"Too many noneType dates, aborting...\")\n",
    "                noneTypeCount = 0\n",
    "                break\n",
    "            count = count + 1\n",
    "            continue\n",
    "            \n",
    "        # Get yesterday's date, at the same time (hours, minutes, seconds) as now\n",
    "        yesterday = current_date - timedelta(days=1)\n",
    "            \n",
    "        # If the current article doesn't have a timezone specified, ignore our timezone info to avoid problems\n",
    "        if content.publish_date.tzinfo == None:\n",
    "            yesterday = yesterday.replace(tzinfo=None)\n",
    "            \n",
    "        # Ignore news articles older than a day ago\n",
    "        elif content.publish_date < yesterday:\n",
    "            print(\"Skipping article from \" + str(content.publish_date))\n",
    "            count = count + 1\n",
    "            continue\n",
    "            \n",
    "        # Score given by the NLP model, indicating the probability that it thinks that the\n",
    "        # article mentions a good speaker.\n",
    "        nlp_score = nlp(content.text).cats\n",
    "            \n",
    "        # Ignore news articles with a bad NLP score\n",
    "        if nlp_score < 0.7:\n",
    "            print(\"Ignoring article with an NLP score of \" + nlp_score)\n",
    "            continue\n",
    "            \n",
    "        article = {}\n",
    "        article['title'] = content.title\n",
    "        article['text'] = content.text\n",
    "        article['link'] = content.url\n",
    "        article['published'] = content.publish_date.isoformat()\n",
    "        content.nlp()\n",
    "        article['keywords'] = content.keywords\n",
    "        article['summary'] = content.summary\n",
    "        \n",
    "        # Add the names of people mentioned in the text\n",
    "        article['people'] = people_list\n",
    "        \n",
    "        # Score given by the NLP model, indicating the probability that it thinks that the\n",
    "        # article mentions a good speaker.\n",
    "        article['nlp_score'] = nlp_score\n",
    "        \n",
    "        # Add article data to the news source's list\n",
    "        newsPaper['articles'].append(article)\n",
    "        print(count, \"articles downloaded from\", company, \"using newspaper, previous article's date: \" + \n",
    "              content.publish_date.isoformat() + \", url:\", content.url)\n",
    "        count = count + 1\n",
    "        noneTypeCount = 0\n",
    "\n",
    "        # Add the current news source's articles data to the whole news list\n",
    "        data['newspapers'][company] = newsPaper\n",
    "        \n",
    "try:\n",
    "    articles_dir = 'results/scraped_articles_' + str(current_date).replace(' ', '_').replace('-', '_') + '.yaml'\n",
    "    \n",
    "    with open(articles_dir, 'w') as outfile:\n",
    "        yaml.dump(data, outfile, allow_unicode=True)\n",
    "except Exception as e: print(e)"
   ]
  },
  {
   "cell_type": "code",
   "execution_count": null,
   "metadata": {},
   "outputs": [],
   "source": [
    "print(content.publish_date)"
   ]
  },
  {
   "cell_type": "code",
   "execution_count": null,
   "metadata": {},
   "outputs": [],
   "source": [
    "data"
   ]
  },
  {
   "cell_type": "markdown",
   "metadata": {},
   "source": [
    "### Add to Google Spreadsheet"
   ]
  },
  {
   "cell_type": "code",
   "execution_count": null,
   "metadata": {},
   "outputs": [],
   "source": []
  }
 ],
 "metadata": {
  "kernelspec": {
   "display_name": "env",
   "language": "python",
   "name": "env"
  },
  "language_info": {
   "codemirror_mode": {
    "name": "ipython",
    "version": 3
   },
   "file_extension": ".py",
   "mimetype": "text/x-python",
   "name": "python",
   "nbconvert_exporter": "python",
   "pygments_lexer": "ipython3",
   "version": "3.5.5"
  }
 },
 "nbformat": 4,
 "nbformat_minor": 2
}
