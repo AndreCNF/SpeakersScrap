{
 "cells": [
  {
   "cell_type": "markdown",
   "metadata": {},
   "source": [
    "# Testing spaCy"
   ]
  },
  {
   "cell_type": "code",
   "execution_count": null,
   "metadata": {},
   "outputs": [],
   "source": [
    "import sys\n",
    "from tqdm import tqdm_notebook\n",
    "import tqdm\n",
    "import spacy\n",
    "from spacy import displacy"
   ]
  },
  {
   "cell_type": "code",
   "execution_count": null,
   "metadata": {},
   "outputs": [],
   "source": [
    "sys.executable"
   ]
  },
  {
   "cell_type": "code",
   "execution_count": null,
   "metadata": {},
   "outputs": [],
   "source": [
    "# Load English tokenizer, tagger, parser, NER and word vectors\n",
    "nlp_en = spacy.load('en')\n",
    "\n",
    "# Load Portuguese tokenizer, tagger, parser, NER and word vectors\n",
    "nlp_pt = spacy.load('pt')"
   ]
  },
  {
   "cell_type": "code",
   "execution_count": null,
   "metadata": {},
   "outputs": [],
   "source": [
    "# Colors for the displacy entity visualizer\n",
    "colors = {'ORG': '#bc8825',\n",
    "          'PER': '#5df322',\n",
    "          'PERSON': '#5df322',\n",
    "          'DATE': '#3399ff',\n",
    "          'Norp': '#ec134b',\n",
    "          'MISC': '#6f6f6f',\n",
    "          'LOC': '#ff81b0'\n",
    "          }\n",
    "\n",
    "# Color and entity options for the displacy visualizer\n",
    "options = {'ents': ['ORG', 'PER', 'PERSON', 'DATE', 'Norp', 'MISC', 'LOC'], 'colors': colors}"
   ]
  },
  {
   "cell_type": "markdown",
   "metadata": {},
   "source": [
    "### Example english short text"
   ]
  },
  {
   "cell_type": "code",
   "execution_count": null,
   "metadata": {},
   "outputs": [],
   "source": [
    "text = (u\"When Sebastian Thrun started working on self-driving cars at \"\n",
    "        u\"Google in 2007, few people outside of the company took him \"\n",
    "        u\"seriously. “I can tell you very senior CEOs of major American \"\n",
    "        u\"car companies would shake my hand and turn away because I wasn’t \"\n",
    "        u\"worth talking to,” said Thrun, now the co-founder and CEO of \"\n",
    "        u\"online higher education startup Udacity, in an interview with \"\n",
    "        u\"Recode earlier this week.\")"
   ]
  },
  {
   "cell_type": "code",
   "execution_count": null,
   "metadata": {},
   "outputs": [],
   "source": [
    "doc = nlp_en(text)"
   ]
  },
  {
   "cell_type": "code",
   "execution_count": null,
   "metadata": {
    "scrolled": true
   },
   "outputs": [],
   "source": [
    "# Find named entities, phrases and concepts\n",
    "for entity in doc.ents:\n",
    "    print(entity.text, entity.label_)"
   ]
  },
  {
   "cell_type": "code",
   "execution_count": null,
   "metadata": {},
   "outputs": [],
   "source": [
    "# Only get the people entities\n",
    "for entity in doc.ents:\n",
    "    if 'PER' in entity.label_:\n",
    "        print(entity.text)"
   ]
  },
  {
   "cell_type": "code",
   "execution_count": null,
   "metadata": {},
   "outputs": [],
   "source": [
    "# Visualize the entities of the text in the (beautiful :) ) displacy visualizer\n",
    "displacy.render(doc, style='ent', jupyter=True, options=options)"
   ]
  },
  {
   "cell_type": "code",
   "execution_count": null,
   "metadata": {},
   "outputs": [],
   "source": [
    "# Determine semantic similarities\n",
    "doc1 = nlp_en(u\"my fries were super gross\")\n",
    "doc2 = nlp_en(u\"such disgusting fries\")\n",
    "similarity = doc1.similarity(doc2)\n",
    "print(doc1.text, doc2.text, similarity)"
   ]
  },
  {
   "cell_type": "markdown",
   "metadata": {},
   "source": [
    "### Example portuguese short text"
   ]
  },
  {
   "cell_type": "code",
   "execution_count": null,
   "metadata": {},
   "outputs": [],
   "source": [
    "text = (u\"Quando as revelações atingem realidades que nos são próximas, é mais difícil \"\n",
    "        u\"analisá-las com o distanciamento e a frieza com que analisamos outras. O caso \"\n",
    "        u\"do Football Leaks – que, ainda por cima, mexe com o tão nacionalmente adorado \"\n",
    "        u\"futebol – é um paradigma disso mesmo, com a animosidade a sobrepor-se à racionalidade, \"\n",
    "        u\"e os sentimentos de invasão e traição a sobreporem-se ao eventual valor social, \"\n",
    "        u\"político e institucional das revelações. Se é Rui Pinto o homem responsável pelo \"\n",
    "        u\"Football Leaks, não será ele uma espécie de Julian Assange do futebol mundial? E digo \"\n",
    "        u\"Assange para usar um nome concreto que poderia ser qualquer outro. No fundo, não serão \"\n",
    "        u\"os Football Leaks tão saudáveis para a justiça no desporto como foram Wikileaks, Panama \"\n",
    "        u\"Papers, Paradise Papers ou outras libertações de documentos do género? O que distingue \"\n",
    "        u\"este whistleblower de outros?\")"
   ]
  },
  {
   "cell_type": "code",
   "execution_count": null,
   "metadata": {},
   "outputs": [],
   "source": [
    "doc = nlp_pt(text)"
   ]
  },
  {
   "cell_type": "code",
   "execution_count": null,
   "metadata": {
    "scrolled": true
   },
   "outputs": [],
   "source": [
    "# Find named entities, phrases and concepts\n",
    "for entity in doc.ents:\n",
    "    print(entity.text, entity.label_)"
   ]
  },
  {
   "cell_type": "code",
   "execution_count": null,
   "metadata": {},
   "outputs": [],
   "source": [
    "# Only get the people entities\n",
    "for entity in doc.ents:\n",
    "    if 'PER' in entity.label_:\n",
    "        print(entity.text)"
   ]
  },
  {
   "cell_type": "code",
   "execution_count": null,
   "metadata": {},
   "outputs": [],
   "source": [
    "# Visualize the entities of the text in the (beautiful :) ) displacy visualizer\n",
    "displacy.render(doc, style='ent', jupyter=True, options=options)"
   ]
  },
  {
   "cell_type": "code",
   "execution_count": null,
   "metadata": {},
   "outputs": [],
   "source": []
  }
 ],
 "metadata": {
  "kernelspec": {
   "display_name": "env",
   "language": "python",
   "name": "env"
  },
  "language_info": {
   "codemirror_mode": {
    "name": "ipython",
    "version": 3
   },
   "file_extension": ".py",
   "mimetype": "text/x-python",
   "name": "python",
   "nbconvert_exporter": "python",
   "pygments_lexer": "ipython3",
   "version": "3.5.5"
  }
 },
 "nbformat": 4,
 "nbformat_minor": 2
}
